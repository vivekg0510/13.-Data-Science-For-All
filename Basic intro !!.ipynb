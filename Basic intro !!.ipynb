{
 "cells": [
  {
   "cell_type": "markdown",
   "metadata": {},
   "source": [
    "# Data types in Python"
   ]
  },
  {
   "cell_type": "markdown",
   "metadata": {},
   "source": [
    "## strings, lists, dictionaries, tuples,...."
   ]
  },
  {
   "cell_type": "code",
   "execution_count": 2,
   "metadata": {},
   "outputs": [],
   "source": [
    "letters = 'upper' or 'lower' or '_underscore'"
   ]
  },
  {
   "cell_type": "code",
   "execution_count": 10,
   "metadata": {},
   "outputs": [
    {
     "name": "stdout",
     "output_type": "stream",
     "text": [
      "5\n",
      "7\n",
      "8\n"
     ]
    }
   ],
   "source": [
    "x = 5 \n",
    "#shift + enter\n",
    "print(x)\n",
    "\n",
    "X = 7\n",
    "print(X)\n",
    "\n",
    "_x = 8\n",
    "print(_x)"
   ]
  },
  {
   "cell_type": "code",
   "execution_count": 13,
   "metadata": {},
   "outputs": [
    {
     "name": "stdout",
     "output_type": "stream",
     "text": [
      "45\n",
      "7\n",
      "9\n"
     ]
    }
   ],
   "source": [
    "My_number = 45\n",
    "print(My_number)\n",
    "\n",
    "my_num = 7\n",
    "print(my_num)\n",
    "\n",
    "MY_NUM = 9\n",
    "print(MY_NUM)"
   ]
  },
  {
   "cell_type": "code",
   "execution_count": 14,
   "metadata": {},
   "outputs": [],
   "source": [
    "keywords = 'reserved words'"
   ]
  },
  {
   "cell_type": "markdown",
   "metadata": {
    "collapsed": true
   },
   "source": [
    "## LINES and INDENTATION"
   ]
  },
  {
   "cell_type": "code",
   "execution_count": 15,
   "metadata": {},
   "outputs": [
    {
     "name": "stdout",
     "output_type": "stream",
     "text": [
      "x is 5\n"
     ]
    }
   ],
   "source": [
    "print(\"x is 5\")"
   ]
  },
  {
   "cell_type": "code",
   "execution_count": 18,
   "metadata": {},
   "outputs": [
    {
     "name": "stdout",
     "output_type": "stream",
     "text": [
      "the value of i is not 9\n"
     ]
    }
   ],
   "source": [
    "i = 8\n",
    "\n",
    "if i == 9:\n",
    "    print(\"the value of i is 9\")\n",
    "else:\n",
    "    print(\"the value of i is not 9\")"
   ]
  },
  {
   "cell_type": "code",
   "execution_count": 24,
   "metadata": {},
   "outputs": [
    {
     "name": "stdout",
     "output_type": "stream",
     "text": [
      "this statement will be printed\n",
      "this statement will be printed\n",
      "I'm cold\n",
      "He said, \"he would be there in a few hours\".\n"
     ]
    }
   ],
   "source": [
    "print(\"this statement will be printed\")\n",
    "print('this statement will be printed')\n",
    "print(\"I'm cold\")\n",
    "print('He said, \"he would be there in a few hours\".')"
   ]
  },
  {
   "cell_type": "markdown",
   "metadata": {},
   "source": [
    "## this is a comment"
   ]
  },
  {
   "cell_type": "code",
   "execution_count": 25,
   "metadata": {},
   "outputs": [],
   "source": [
    "# a function to add two numbers\n",
    "def add_num(x,y):\n",
    "    return x + y"
   ]
  },
  {
   "cell_type": "code",
   "execution_count": 26,
   "metadata": {},
   "outputs": [
    {
     "name": "stdout",
     "output_type": "stream",
     "text": [
      "the value of x and y is: \n"
     ]
    }
   ],
   "source": [
    "# comment goes here\n",
    "print(\"the value of x and y is: \") \n",
    "# comment can go here too"
   ]
  },
  {
   "cell_type": "code",
   "execution_count": 28,
   "metadata": {},
   "outputs": [
    {
     "name": "stdout",
     "output_type": "stream",
     "text": [
      "please choose a number: 12\n"
     ]
    },
    {
     "data": {
      "text/plain": [
       "'12'"
      ]
     },
     "execution_count": 28,
     "metadata": {},
     "output_type": "execute_result"
    }
   ],
   "source": [
    "input(\"please choose a number: \") \n",
    "# this will prompt a user to enter a number"
   ]
  },
  {
   "cell_type": "code",
   "execution_count": 29,
   "metadata": {},
   "outputs": [
    {
     "name": "stdout",
     "output_type": "stream",
     "text": [
      "this is going to be a long comment and it needs to continue on a new line, don't you agree? You see how long the statement is?this is going to be a long commentand it needs to continue on a new line, don't you agree? You see how long the statement is?this is going to be a long comment and it needs to continue on a new line, don't you agree?You see how long the statement is?this is going to be a long comment and it needs to continueon a new line,don't you agree? You see how long the statement is?\n"
     ]
    }
   ],
   "source": [
    "print(\"this is going to be a long comment and it needs to continue on a new line, \\\n",
    "don't you agree? You see how long the statement is?this is going to be a long comment\\\n",
    "and it needs to continue on a new line, don't you agree? You see how long the statement is?\\\n",
    "this is going to be a long comment and it needs to continue on a new line, don't you agree?\\\n",
    "You see how long the statement is?this is going to be a long comment and it needs to continue\\\n",
    "on a new line,don't you agree? You see how long the statement is?\")"
   ]
  },
  {
   "cell_type": "code",
   "execution_count": 32,
   "metadata": {},
   "outputs": [
    {
     "name": "stdout",
     "output_type": "stream",
     "text": [
      "the value of 3 + 6 is:  9\n",
      "hi there \n",
      " how are you? \t I am good.\n"
     ]
    }
   ],
   "source": [
    "\"\"\"\n",
    "this is going to be a long comment and it needs to continue on a new line, \n",
    "don't you agree? You see how long the statement is?this is going to be a long comment\n",
    "and it needs to continue on a new line, don't you agree?\n",
    "\n",
    "\"\"\"\n",
    "print(\"the value of 3 + 6 is: \", 3+6)\n",
    "print(\"hi there \\n how are you? \\t I am good.\")"
   ]
  },
  {
   "cell_type": "code",
   "execution_count": 33,
   "metadata": {},
   "outputs": [
    {
     "name": "stdout",
     "output_type": "stream",
     "text": [
      "the value of x is 5\n"
     ]
    }
   ],
   "source": [
    "'''\n",
    "this is going to be a long comment and it needs to continue on a new line, \n",
    "don't you agree? You see how long the statement is?this is going to be a long comment\n",
    "and it needs to continue on a new line, don't you agree? doc string\n",
    "\n",
    "'''\n",
    "print(\"the value of x is 5\")"
   ]
  }
 ],
 "metadata": {
  "kernelspec": {
   "display_name": "Python 3",
   "language": "python",
   "name": "python3"
  },
  "language_info": {
   "codemirror_mode": {
    "name": "ipython",
    "version": 3
   },
   "file_extension": ".py",
   "mimetype": "text/x-python",
   "name": "python",
   "nbconvert_exporter": "python",
   "pygments_lexer": "ipython3",
   "version": "3.7.1"
  }
 },
 "nbformat": 4,
 "nbformat_minor": 1
}
