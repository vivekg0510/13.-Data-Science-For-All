{
 "cells": [
  {
   "cell_type": "markdown",
   "metadata": {
    "collapsed": true
   },
   "source": [
    "## str, lists, dict, tuples  type()"
   ]
  },
  {
   "cell_type": "code",
   "execution_count": 2,
   "metadata": {},
   "outputs": [
    {
     "name": "stdout",
     "output_type": "stream",
     "text": [
      "str example\n"
     ]
    }
   ],
   "source": [
    "string1 = \"str example\"\n",
    "print(string1)"
   ]
  },
  {
   "cell_type": "code",
   "execution_count": 4,
   "metadata": {},
   "outputs": [
    {
     "name": "stdout",
     "output_type": "stream",
     "text": [
      "<class 'str'>\n",
      "<class 'int'>\n"
     ]
    }
   ],
   "source": [
    "# check the type of variable\n",
    "print(type(string1))\n",
    "print(type(23))"
   ]
  },
  {
   "cell_type": "code",
   "execution_count": 5,
   "metadata": {},
   "outputs": [
    {
     "data": {
      "text/plain": [
       "list"
      ]
     },
     "execution_count": 5,
     "metadata": {},
     "output_type": "execute_result"
    }
   ],
   "source": [
    "lst = [3,4,5, 'a','c']\n",
    "type(lst)"
   ]
  },
  {
   "cell_type": "markdown",
   "metadata": {},
   "source": [
    "## Constructor"
   ]
  },
  {
   "cell_type": "code",
   "execution_count": 11,
   "metadata": {},
   "outputs": [],
   "source": [
    "class Class_Name:\n",
    "    def __init__(self, parameter2, parameter3):\n",
    "        pass\n",
    "        #any code to initialize our object\n",
    "    def method_name(self):\n",
    "        pass"
   ]
  },
  {
   "cell_type": "markdown",
   "metadata": {
    "collapsed": true
   },
   "source": [
    "# Creating Classes"
   ]
  },
  {
   "cell_type": "code",
   "execution_count": 12,
   "metadata": {},
   "outputs": [],
   "source": [
    "class Person:\n",
    "    def __init__(self, name, lastname, telephone):\n",
    "        self.name = name\n",
    "        self.lastname = lastname\n",
    "        self.telephone = telephone\n",
    "\n",
    "x = Person(\"John\", \"Smith\", \"345 656 8849\")"
   ]
  },
  {
   "cell_type": "code",
   "execution_count": 15,
   "metadata": {},
   "outputs": [
    {
     "data": {
      "text/plain": [
       "__main__.Person"
      ]
     },
     "execution_count": 15,
     "metadata": {},
     "output_type": "execute_result"
    }
   ],
   "source": [
    "type(x)"
   ]
  },
  {
   "cell_type": "code",
   "execution_count": 16,
   "metadata": {},
   "outputs": [],
   "source": [
    "x.lastname = 'Smith'"
   ]
  },
  {
   "cell_type": "code",
   "execution_count": 17,
   "metadata": {},
   "outputs": [
    {
     "data": {
      "text/plain": [
       "'345 656 8849'"
      ]
     },
     "execution_count": 17,
     "metadata": {},
     "output_type": "execute_result"
    }
   ],
   "source": [
    "x.telephone"
   ]
  },
  {
   "cell_type": "code",
   "execution_count": 18,
   "metadata": {},
   "outputs": [],
   "source": [
    "class Person:\n",
    "    def __init__(self, name, lastname, telephone = \"445 342 1245\"):\n",
    "        self.name = name\n",
    "        self.lastname = lastname\n",
    "        self.telephone = telephone\n",
    "        \n",
    "y = Person(\"Jane\", \"Smith\", \"345 569 9803\")"
   ]
  },
  {
   "cell_type": "code",
   "execution_count": 20,
   "metadata": {},
   "outputs": [
    {
     "name": "stdout",
     "output_type": "stream",
     "text": [
      "Jane\n",
      "Smith\n"
     ]
    }
   ],
   "source": [
    "print(y.name)\n",
    "print(y.lastname)"
   ]
  },
  {
   "cell_type": "code",
   "execution_count": 21,
   "metadata": {},
   "outputs": [],
   "source": [
    "class Person:\n",
    "    def __init__(self, name, lastname, telephone = \"445 342 1245\"):\n",
    "        self.name = name\n",
    "        self.lastname = lastname\n",
    "        self.telephone = telephone\n",
    "        \n",
    "a = Person(\"Cory\", \"Paul\")"
   ]
  },
  {
   "cell_type": "code",
   "execution_count": 25,
   "metadata": {},
   "outputs": [
    {
     "name": "stdout",
     "output_type": "stream",
     "text": [
      "Cory\n",
      "445 342 1245\n",
      "John\n"
     ]
    }
   ],
   "source": [
    "print(a.name)\n",
    "print(a.telephone)\n",
    "a.name = \"John\"\n",
    "print(a.name)"
   ]
  },
  {
   "cell_type": "code",
   "execution_count": 26,
   "metadata": {},
   "outputs": [],
   "source": [
    "class Person:\n",
    "    \n",
    "    def __init__(self, lastname, name = \"Harry\", telephone = \"445 342 1245\"):\n",
    "        self.name = name\n",
    "        self.lastname = lastname\n",
    "        self.telephone = telephone\n",
    "        \n",
    "a = Person(\"Cory\")\n",
    "b = Person(\"Paul\", \"Tim\", \"435 533 4456\")"
   ]
  },
  {
   "cell_type": "code",
   "execution_count": 27,
   "metadata": {},
   "outputs": [
    {
     "name": "stdout",
     "output_type": "stream",
     "text": [
      "445 342 1245\n",
      "Paul\n",
      "Tim\n"
     ]
    }
   ],
   "source": [
    "print(a.telephone)\n",
    "print(b.lastname)\n",
    "print(b.name)"
   ]
  },
  {
   "cell_type": "code",
   "execution_count": 28,
   "metadata": {},
   "outputs": [],
   "source": [
    "class Person:\n",
    "    \n",
    "    address = \"New York\" # class variables\n",
    "    city = \"NY City\"\n",
    "    \n",
    "    def __init__(self, lastname, name = \"Harry\", telephone = \"445 342 1245\"):\n",
    "        self.name = name\n",
    "        self.lastname = lastname\n",
    "        self.telephone = telephone\n",
    "        \n",
    "c = Person(\"Newman\")"
   ]
  },
  {
   "cell_type": "code",
   "execution_count": 30,
   "metadata": {},
   "outputs": [
    {
     "name": "stdout",
     "output_type": "stream",
     "text": [
      "New York\n"
     ]
    }
   ],
   "source": [
    "print(c.address)"
   ]
  },
  {
   "cell_type": "code",
   "execution_count": 31,
   "metadata": {},
   "outputs": [
    {
     "name": "stdout",
     "output_type": "stream",
     "text": [
      "New Jersey\n"
     ]
    }
   ],
   "source": [
    "c.address = \"New Jersey\"\n",
    "print(c.address)"
   ]
  },
  {
   "cell_type": "markdown",
   "metadata": {},
   "source": [
    "# Methods"
   ]
  },
  {
   "cell_type": "code",
   "execution_count": 33,
   "metadata": {},
   "outputs": [],
   "source": [
    "class Person:\n",
    "    \n",
    "    address = \"New York\"\n",
    "    \n",
    "    def __init__(self, lastname, name = \"Harry\", telephone = \"445 342 1245\"):\n",
    "        self.name = name\n",
    "        self.lastname = lastname\n",
    "        self.telephone = telephone\n",
    "        \n",
    "    def greet_person(self):\n",
    "        print(\"Hello and welcome \" + self.name + \" \" + self.lastname)\n",
    "        \n",
    "a = Person(\"Smith\")"
   ]
  },
  {
   "cell_type": "code",
   "execution_count": 34,
   "metadata": {},
   "outputs": [
    {
     "data": {
      "text/plain": [
       "__main__.Person"
      ]
     },
     "execution_count": 34,
     "metadata": {},
     "output_type": "execute_result"
    }
   ],
   "source": [
    "type(a)"
   ]
  },
  {
   "cell_type": "code",
   "execution_count": 36,
   "metadata": {},
   "outputs": [
    {
     "name": "stdout",
     "output_type": "stream",
     "text": [
      "Smith\n"
     ]
    }
   ],
   "source": [
    "print(a.lastname)"
   ]
  },
  {
   "cell_type": "code",
   "execution_count": 37,
   "metadata": {},
   "outputs": [],
   "source": [
    "class Person:\n",
    "    \n",
    "    address = \"New York\"\n",
    "    \n",
    "    def __init__(self, lastname, name = \"Harry\", telephone = \"445 342 1245\"):\n",
    "        self.name = name\n",
    "        self.lastname = lastname\n",
    "        self.telephone = telephone\n",
    "        \n",
    "    def greet_person(self):\n",
    "        print(\"Hello and welcome \" + self.name + \" \" + self.lastname)\n",
    "        \n",
    "    def ask_person(self):\n",
    "        print(\"are you from \" + Person.address + \" \" + self.name + \" ?\")\n",
    "        \n",
    "xx = Person(\"Smith\")"
   ]
  },
  {
   "cell_type": "code",
   "execution_count": 40,
   "metadata": {},
   "outputs": [
    {
     "name": "stdout",
     "output_type": "stream",
     "text": [
      "<bound method Person.greet_person of <__main__.Person object at 0x000001FCF54ABA58>>\n",
      "Hello and welcome Harry Smith\n",
      "None\n",
      "are you from New York Harry ?\n",
      "None\n"
     ]
    }
   ],
   "source": [
    "print(xx.greet_person)\n",
    "print(xx.greet_person())\n",
    "print(xx.ask_person())"
   ]
  },
  {
   "cell_type": "markdown",
   "metadata": {},
   "source": [
    "## Class attributes"
   ]
  },
  {
   "cell_type": "code",
   "execution_count": 41,
   "metadata": {},
   "outputs": [],
   "source": [
    "class Person:\n",
    "    \n",
    "    MAJORS = (\"Engineering\", \"Law\", \"IT\", \"Psychology\")\n",
    "    \n",
    "    def __init__(self, major, name, lastname):\n",
    "        \n",
    "        if major not in self.MAJORS:\n",
    "            raise ValueError (\"{} is not a valid major\".format(major)) \n",
    "        \n",
    "        self.major = major\n",
    "        self.name = name\n",
    "        self.lastname = lastname\n",
    "        \n",
    "    def person_major(self):\n",
    "        print(\"The major of \" + self.name + \" \" + self.lastname + \" is \" + self.major)\n",
    "        \n",
    "jimmy = Person(\"Engineering\", \"Jimmy\", \"Newman\")"
   ]
  },
  {
   "cell_type": "code",
   "execution_count": 42,
   "metadata": {},
   "outputs": [
    {
     "name": "stdout",
     "output_type": "stream",
     "text": [
      "The major of Jimmy Newman is Engineering\n",
      "None\n",
      "Newman\n",
      "Engineering\n"
     ]
    }
   ],
   "source": [
    "print(jimmy.person_major())\n",
    "print(jimmy.lastname)\n",
    "print(jimmy.major)"
   ]
  },
  {
   "cell_type": "code",
   "execution_count": 43,
   "metadata": {},
   "outputs": [
    {
     "data": {
      "text/plain": [
       "' this is a doc string ok'"
      ]
     },
     "execution_count": 43,
     "metadata": {},
     "output_type": "execute_result"
    }
   ],
   "source": [
    "class Person:\n",
    "    \"\"\" this is a doc string ok\"\"\"\n",
    "    sports = []\n",
    "    \n",
    "    def __init__(self):\n",
    "        \"\"\"create a list of sports here\"\"\"\n",
    "        self.sports = []\n",
    "        \n",
    "    def add_sport(self, sport):\n",
    "        \"\"\"add a list of sports to your list\"\"\"\n",
    "        self.sports.append(sport)\n",
    "        print(\"the following sport has been added to our sports list: \" + sport)\n",
    "        \n",
    "x = Person()\n",
    "x.__doc__"
   ]
  },
  {
   "cell_type": "code",
   "execution_count": 46,
   "metadata": {},
   "outputs": [
    {
     "name": "stdout",
     "output_type": "stream",
     "text": [
      "['basket ball']\n",
      "the following sport has been added to our sports list: basket ball\n",
      "None\n",
      "['basket ball', 'basket ball']\n"
     ]
    }
   ],
   "source": [
    "print(x.sports)\n",
    "print(x.add_sport(\"basket ball\"))\n",
    "print(x.sports)"
   ]
  },
  {
   "cell_type": "code",
   "execution_count": 48,
   "metadata": {},
   "outputs": [],
   "source": [
    "class Person:\n",
    "    \n",
    "    sports = []\n",
    "    \n",
    "    def __init__(self):\n",
    "        self.sports = []\n",
    "        \n",
    "    def add_sport(self, sport):\n",
    "        self.sports.append(sport)\n",
    "        print(\"the following sport has been added to our sports list: \" + sport)\n",
    "        \n",
    "    def sport_list(self):\n",
    "        print(\"here is a list of all the sports in our list \" + str(self.sports))\n",
    "        \n",
    "x = Person()"
   ]
  },
  {
   "cell_type": "code",
   "execution_count": 50,
   "metadata": {},
   "outputs": [
    {
     "name": "stdout",
     "output_type": "stream",
     "text": [
      "[]\n",
      "here is a list of all the sports in our list []\n",
      "None\n"
     ]
    }
   ],
   "source": [
    "print(x.sports)\n",
    "print(x.sport_list())"
   ]
  },
  {
   "cell_type": "markdown",
   "metadata": {},
   "source": [
    "# doc strings"
   ]
  },
  {
   "cell_type": "markdown",
   "metadata": {
    "collapsed": true
   },
   "source": [
    " - gives us info \"\"\"doc strings \"\"\" ''' doc strings '''"
   ]
  },
  {
   "cell_type": "code",
   "execution_count": 52,
   "metadata": {},
   "outputs": [],
   "source": [
    "class Person:\n",
    "    \"\"\"class to represent a person\n",
    "    Attributes:\n",
    "        name - first name of the person\n",
    "        lastname - last name of the person\n",
    "        telephone - telephone of the person\n",
    "    \"\"\"\n",
    "    \n",
    "    def __init__(self, name, lastname, telephone = \"445 342 1245\"):\n",
    "        \"\"\"The person init method\n",
    "        Params:\n",
    "            name - initializes our name attr\n",
    "            lastname - initializes our last name attr\n",
    "            telephone - initializes our telephone\n",
    "                        default value is 445 342 1245\n",
    "        \"\"\"\n",
    "        self.name = name\n",
    "        self.lastname = lastname\n",
    "        self.telephone = telephone"
   ]
  },
  {
   "cell_type": "code",
   "execution_count": 53,
   "metadata": {},
   "outputs": [
    {
     "name": "stdout",
     "output_type": "stream",
     "text": [
      "Help on class Person in module __main__:\n",
      "\n",
      "class Person(builtins.object)\n",
      " |  Person(name, lastname, telephone='445 342 1245')\n",
      " |  \n",
      " |  class to represent a person\n",
      " |  Attributes:\n",
      " |      name - first name of the person\n",
      " |      lastname - last name of the person\n",
      " |      telephone - telephone of the person\n",
      " |  \n",
      " |  Methods defined here:\n",
      " |  \n",
      " |  __init__(self, name, lastname, telephone='445 342 1245')\n",
      " |      The person init method\n",
      " |      Params:\n",
      " |          name - initializes our name attr\n",
      " |          lastname - initializes our last name attr\n",
      " |          telephone - initializes our telephone\n",
      " |                      default value is 445 342 1245\n",
      " |  \n",
      " |  ----------------------------------------------------------------------\n",
      " |  Data descriptors defined here:\n",
      " |  \n",
      " |  __dict__\n",
      " |      dictionary for instance variables (if defined)\n",
      " |  \n",
      " |  __weakref__\n",
      " |      list of weak references to the object (if defined)\n",
      "\n"
     ]
    }
   ],
   "source": [
    "help(Person)"
   ]
  },
  {
   "cell_type": "code",
   "execution_count": 118,
   "metadata": {
    "collapsed": true
   },
   "outputs": [],
   "source": [
    "class Person:\n",
    "    \"\"\"class to represent a person\"\"\"\n",
    "    \n",
    "    address = \"New York\"\n",
    "    \n",
    "    def __init__(self, lastname, name = \"Harry\", telephone = \"445 342 1245\"):\n",
    "        \"\"\"Person init method\"\"\"\n",
    "        self.name = name\n",
    "        self.lastname = lastname\n",
    "        self.telephone = telephone\n",
    "        \n",
    "    def greet_person(self):\n",
    "        \"\"\"Method to greet a person\"\"\"\n",
    "        print \"Hello and welcome \" + self.name + \" \" + self.lastname\n",
    "        \n",
    "    def ask_person(self):\n",
    "        \"\"\"method to ask persons where abouts\"\"\"\n",
    "        print \"are you from \" + Person.address + \" \" + self.name + \" ?\""
   ]
  },
  {
   "cell_type": "code",
   "execution_count": 117,
   "metadata": {},
   "outputs": [
    {
     "name": "stdout",
     "output_type": "stream",
     "text": [
      "Help on class Person in module __main__:\n",
      "\n",
      "class Person\n",
      " |  class to represent a person\n",
      " |  \n",
      " |  Methods defined here:\n",
      " |  \n",
      " |  __init__(self, lastname, name='Harry', telephone='445 342 1245')\n",
      " |      Person init method\n",
      " |  \n",
      " |  ask_person(self)\n",
      " |      method to ask persons where abouts\n",
      " |  \n",
      " |  greet_person(self)\n",
      " |      Method to greet a person\n",
      " |  \n",
      " |  ----------------------------------------------------------------------\n",
      " |  Data and other attributes defined here:\n",
      " |  \n",
      " |  address = 'New York'\n",
      "\n"
     ]
    }
   ],
   "source": [
    "help(Person)"
   ]
  },
  {
   "cell_type": "markdown",
   "metadata": {},
   "source": [
    "## Inheritance and Method Overriding"
   ]
  },
  {
   "cell_type": "code",
   "execution_count": 65,
   "metadata": {},
   "outputs": [],
   "source": [
    "class Parent:\n",
    "    def method1(self):\n",
    "        print(\"hi\")\n",
    "    def method2(self):\n",
    "        pass\n",
    "    def method3(self):\n",
    "        pass\n",
    "    \n",
    "class Child(Parent):\n",
    "    def method4(self):\n",
    "        pass\n",
    "    def method5(self):\n",
    "        pass\n",
    "    def method1(self):\n",
    "        print(\"hi there\")"
   ]
  },
  {
   "cell_type": "code",
   "execution_count": 56,
   "metadata": {},
   "outputs": [],
   "source": [
    "class House:\n",
    "    \"\"\"This is our House parent class\"\"\"\n",
    "    def __init__(self):\n",
    "        print(\"This is a house\")\n",
    "    def color(self):\n",
    "        print(\"I am red!\")\n",
    "    def size(self):\n",
    "        print(\"I am 3500 sq ft\")\n",
    "    def location(self):\n",
    "        print(\"I am in NY\")\n",
    "    def kind(self):\n",
    "        print(\"I am a town house\")\n",
    "#==================================================#\n",
    "\n",
    "class Kitchen(House):\n",
    "    \"\"\"Kitchen class and inherits from House class\"\"\"\n",
    "    def __init__(self):\n",
    "        House.__init__(self)\n",
    "        print(\"I am a kitchen\")\n",
    "    def color(self):\n",
    "        print(\"I am cream in color\")        \n",
    "    def oven(self):\n",
    "        print(\"I make food!\")        \n",
    "    def size(self):\n",
    "        print(\"I am no longer 3500 sq ft\")\n",
    "        print(\"I am now 800 sq ft\")"
   ]
  },
  {
   "cell_type": "code",
   "execution_count": 68,
   "metadata": {},
   "outputs": [
    {
     "name": "stdout",
     "output_type": "stream",
     "text": [
      "This is a house\n",
      "I am a kitchen\n"
     ]
    }
   ],
   "source": [
    "x = Kitchen()"
   ]
  },
  {
   "cell_type": "code",
   "execution_count": 69,
   "metadata": {},
   "outputs": [
    {
     "name": "stdout",
     "output_type": "stream",
     "text": [
      "I make food!\n"
     ]
    }
   ],
   "source": [
    "x.oven()"
   ]
  },
  {
   "cell_type": "code",
   "execution_count": 70,
   "metadata": {},
   "outputs": [
    {
     "name": "stdout",
     "output_type": "stream",
     "text": [
      "I am cream in color\n"
     ]
    }
   ],
   "source": [
    "x.color()"
   ]
  },
  {
   "cell_type": "code",
   "execution_count": 71,
   "metadata": {},
   "outputs": [
    {
     "name": "stdout",
     "output_type": "stream",
     "text": [
      "I am a town house\n"
     ]
    }
   ],
   "source": [
    "x.kind()"
   ]
  },
  {
   "cell_type": "code",
   "execution_count": 72,
   "metadata": {},
   "outputs": [
    {
     "name": "stdout",
     "output_type": "stream",
     "text": [
      "I am in NY\n"
     ]
    }
   ],
   "source": [
    "x.location()"
   ]
  },
  {
   "cell_type": "code",
   "execution_count": 73,
   "metadata": {},
   "outputs": [
    {
     "name": "stdout",
     "output_type": "stream",
     "text": [
      "I am no longer 3500 sq ft\n",
      "I am now 800 sq ft\n"
     ]
    }
   ],
   "source": [
    "x.size()"
   ]
  },
  {
   "cell_type": "code",
   "execution_count": 75,
   "metadata": {},
   "outputs": [
    {
     "name": "stdout",
     "output_type": "stream",
     "text": [
      "1/4\n",
      "2/3\n",
      "3/4\n",
      "4/9\n",
      "9\n"
     ]
    }
   ],
   "source": [
    "class Rational:\n",
    "    \n",
    "    def __init__(self, num, den):\n",
    "        self.numerator = num\n",
    "        if den != 0:\n",
    "            self.denominator = den\n",
    "        else:\n",
    "            print(\"there was an error with your calculation\")\n",
    "            from sys import exit\n",
    "            exit()\n",
    "       \n",
    "    def get_numerator(self):\n",
    "        return self.numerator\n",
    "    def get_denominator(self):\n",
    "        return self.denominator\n",
    "    def set_numerator(self, n):\n",
    "        self.numerator = n\n",
    "        \n",
    "    def set_denominator(self, d):\n",
    "        if d != 0:\n",
    "            self.denominator = d\n",
    "        else:\n",
    "            print(\"error, can't be zero\")\n",
    "            from sys import exit\n",
    "            exit()\n",
    "\n",
    "    def __str__(self):\n",
    "        return str(self.get_numerator()) + \"/\" + str(self.get_denominator())\n",
    "    \n",
    "def main():\n",
    "    fract1 = Rational(1,4)\n",
    "    fract2 = Rational(2,3)\n",
    "    print(fract1)\n",
    "    print(fract2)\n",
    "    fract1.set_numerator(3)\n",
    "    fract1.set_denominator(4)\n",
    "    print(fract1)\n",
    "    fract3 = Rational(4,9)\n",
    "    print(fract3)\n",
    "    print(fract3.get_denominator())\n",
    "    \n",
    "main()"
   ]
  },
  {
   "cell_type": "code",
   "execution_count": 76,
   "metadata": {},
   "outputs": [],
   "source": [
    "class BankAccount:\n",
    "    \n",
    "    def __init__(self, number, name, balance):\n",
    "        self.account_number = number\n",
    "        #self.ssn = ssn\n",
    "        self.name = name\n",
    "        self.balance = balance\n",
    "        self.min_balance = 500\n",
    "        self.active = True\n",
    "        \n",
    "    def deposit(self, amount):\n",
    "        \n",
    "        if self.is_active():\n",
    "            self.balance += amount\n",
    "            return True\n",
    "        else:\n",
    "            print(\"will need to go to a nearest branch ...\")\n",
    "            return False\n",
    "    \n",
    "    def withdraw(self, amount):\n",
    "        result = False\n",
    "        \n",
    "        if self.is_active() and self.balance - amount >= self.min_balance:\n",
    "            self.balance -= amount\n",
    "            result = True\n",
    "        else:\n",
    "            print(\"you will need a min balance of 500 to remain in yr acct\")\n",
    "            \n",
    "        return result\n",
    "        \n",
    "    \n",
    "    def set_active(self, act):\n",
    "        self.active = act\n",
    "        \n",
    "    def is_active(self):\n",
    "        if self.balance > 0:\n",
    "            return self.active\n",
    "        return False"
   ]
  },
  {
   "cell_type": "code",
   "execution_count": 77,
   "metadata": {},
   "outputs": [],
   "source": [
    "acct = BankAccount(23333, \"Jane\", 200)"
   ]
  },
  {
   "cell_type": "code",
   "execution_count": 78,
   "metadata": {},
   "outputs": [],
   "source": [
    "acct.set_active(\"False\")"
   ]
  },
  {
   "cell_type": "code",
   "execution_count": 84,
   "metadata": {},
   "outputs": [
    {
     "data": {
      "text/plain": [
       "True"
      ]
     },
     "execution_count": 84,
     "metadata": {},
     "output_type": "execute_result"
    }
   ],
   "source": [
    "acct.deposit(200)"
   ]
  },
  {
   "cell_type": "code",
   "execution_count": 85,
   "metadata": {},
   "outputs": [
    {
     "data": {
      "text/plain": [
       "1200"
      ]
     },
     "execution_count": 85,
     "metadata": {},
     "output_type": "execute_result"
    }
   ],
   "source": [
    "acct.balance"
   ]
  },
  {
   "cell_type": "code",
   "execution_count": 86,
   "metadata": {},
   "outputs": [
    {
     "name": "stdout",
     "output_type": "stream",
     "text": [
      "you will need a min balance of 500 to remain in yr acct\n"
     ]
    },
    {
     "data": {
      "text/plain": [
       "False"
      ]
     },
     "execution_count": 86,
     "metadata": {},
     "output_type": "execute_result"
    }
   ],
   "source": [
    "acct.withdraw(2600)"
   ]
  },
  {
   "cell_type": "code",
   "execution_count": 87,
   "metadata": {},
   "outputs": [
    {
     "data": {
      "text/plain": [
       "'False'"
      ]
     },
     "execution_count": 87,
     "metadata": {},
     "output_type": "execute_result"
    }
   ],
   "source": [
    "acct.is_active()"
   ]
  },
  {
   "cell_type": "code",
   "execution_count": 88,
   "metadata": {},
   "outputs": [
    {
     "data": {
      "text/plain": [
       "'Jane'"
      ]
     },
     "execution_count": 88,
     "metadata": {},
     "output_type": "execute_result"
    }
   ],
   "source": [
    "acct.name"
   ]
  }
 ],
 "metadata": {
  "kernelspec": {
   "display_name": "Python 3",
   "language": "python",
   "name": "python3"
  },
  "language_info": {
   "codemirror_mode": {
    "name": "ipython",
    "version": 3
   },
   "file_extension": ".py",
   "mimetype": "text/x-python",
   "name": "python",
   "nbconvert_exporter": "python",
   "pygments_lexer": "ipython3",
   "version": "3.7.1"
  }
 },
 "nbformat": 4,
 "nbformat_minor": 1
}
